{
  "nbformat": 4,
  "nbformat_minor": 0,
  "metadata": {
    "colab": {
      "provenance": [],
      "authorship_tag": "ABX9TyMLYtqSlpIvDtt01/x+IyVb"
    },
    "kernelspec": {
      "name": "python3",
      "display_name": "Python 3"
    },
    "language_info": {
      "name": "python"
    }
  },
  "cells": [
    {
      "cell_type": "code",
      "execution_count": null,
      "metadata": {
        "id": "TqXuvNJdMoaN"
      },
      "outputs": [],
      "source": [
        "# install.packages(\"quanteda\")\n",
        "# install.packages(\"quanteda.textplots\")\n",
        "# install.packages(\"tokenizers\")\n",
        "\n",
        "library(tidyverse)\n",
        "library(tokenizers)\n",
        "library(quanteda)\n",
        "library(quanteda.textplots)\n",
        "\n",
        "dfm_raw <- read_csv(\"UNGDspeeches.csv\")\n",
        "\n",
        "\n",
        "# dfm_raw <- read_csv(\"UNGDspeeches.csv\")\n",
        "# Error in read_csv(\"UNGDspeeches.csv\") :\n",
        "#   could not find function \"read_csv\""
      ]
    }
  ]
}